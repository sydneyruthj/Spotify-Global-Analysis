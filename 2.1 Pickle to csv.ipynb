{
 "cells": [
  {
   "cell_type": "markdown",
   "id": "398fdb8e-928e-496b-8974-b626f84e7773",
   "metadata": {},
   "source": [
    "# Changing Data file to CSV"
   ]
  },
  {
   "cell_type": "code",
   "execution_count": 4,
   "id": "311bc6b8-7473-4e9d-b90a-a6cc26334f14",
   "metadata": {},
   "outputs": [],
   "source": [
    "# Import Libraries\n",
    "import pandas as pd\n",
    "import numpy as np\n",
    "import os\n",
    "import matplotlib.pyplot as plt\n",
    "import seaborn as sns\n",
    "import scipy"
   ]
  },
  {
   "cell_type": "code",
   "execution_count": 6,
   "id": "fd391cc3-572f-4aef-82a2-e7b52abcdafb",
   "metadata": {},
   "outputs": [],
   "source": [
    "df = pd.read_pickle(os.path.join(r'/Users/sydneyjohnson/Documents/CF Data Analytics Course/09-2024 A6 Spotify Analysis/02 Data/Prepared Data/fulldf9_27.pkl'))\n"
   ]
  },
  {
   "cell_type": "code",
   "execution_count": 8,
   "id": "bbd33b82-97d1-45c2-ab33-420cae2653bc",
   "metadata": {},
   "outputs": [],
   "source": [
    "df.to_csv(os.path.join(r'/Users/sydneyjohnson/Documents/CF Data Analytics Course/09-2024 A6 Spotify Analysis/02 Data/Prepared Data/fulldf9_27.csv'))\n"
   ]
  }
 ],
 "metadata": {
  "kernelspec": {
   "display_name": "Python 3 (ipykernel)",
   "language": "python",
   "name": "python3"
  },
  "language_info": {
   "codemirror_mode": {
    "name": "ipython",
    "version": 3
   },
   "file_extension": ".py",
   "mimetype": "text/x-python",
   "name": "python",
   "nbconvert_exporter": "python",
   "pygments_lexer": "ipython3",
   "version": "3.11.7"
  }
 },
 "nbformat": 4,
 "nbformat_minor": 5
}
